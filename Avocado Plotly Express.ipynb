{
 "cells": [
  {
   "cell_type": "code",
   "execution_count": null,
   "metadata": {},
   "outputs": [],
   "source": [
    "# Libraries:\n",
    "import pandas as pd\n",
    "\n",
    "import plotly.express as px\n",
    "from plotly.offline import plot  \n",
    "\n",
    "#https://www.kaggle.com/timmate/avocado-prices-2020"
   ]
  },
  {
   "cell_type": "code",
   "execution_count": null,
   "metadata": {},
   "outputs": [],
   "source": [
    "#  Read the avocado data grouped by region with latitude and longitude\n",
    "df = pd.read_excel('Avocado.xlsx')\n",
    "df['AveragePrice'] = df['AveragePrice'].round(2)\n",
    "df.head()"
   ]
  },
  {
   "cell_type": "code",
   "execution_count": null,
   "metadata": {},
   "outputs": [],
   "source": [
    "#  Plot\n",
    "\n",
    "fig = px.scatter_geo(df,lon='longitude', lat='latitude',\n",
    "                      color= 'AveragePrice',\n",
    "                      color_continuous_scale=px.colors.sequential.Viridis,\n",
    "                      size= df['AveragePrice'] * 200, \n",
    "                      text = df['Region'],\n",
    "                      title= 'Avocado Prices by region in the United States',\n",
    "                      projection='albers usa')\n",
    "\n",
    "fig.show()"
   ]
  },
  {
   "cell_type": "code",
   "execution_count": null,
   "metadata": {},
   "outputs": [],
   "source": [
    "#  Out to HTML\n",
    "plot(fig,show_link = False,filename='Avocado Plotly Express.html')"
   ]
  },
  {
   "cell_type": "code",
   "execution_count": null,
   "metadata": {},
   "outputs": [],
   "source": []
  },
  {
   "cell_type": "code",
   "execution_count": null,
   "metadata": {},
   "outputs": [],
   "source": []
  },
  {
   "cell_type": "code",
   "execution_count": null,
   "metadata": {},
   "outputs": [],
   "source": []
  }
 ],
 "metadata": {
  "kernelspec": {
   "display_name": "Python 3",
   "language": "python",
   "name": "python3"
  },
  "language_info": {
   "codemirror_mode": {
    "name": "ipython",
    "version": 3
   },
   "file_extension": ".py",
   "mimetype": "text/x-python",
   "name": "python",
   "nbconvert_exporter": "python",
   "pygments_lexer": "ipython3",
   "version": "3.7.6"
  }
 },
 "nbformat": 4,
 "nbformat_minor": 4
}
