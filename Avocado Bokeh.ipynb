{
 "cells": [
  {
   "cell_type": "code",
   "execution_count": null,
   "metadata": {},
   "outputs": [],
   "source": [
    "import numpy as np\n",
    "import pandas as pd\n",
    "\n",
    "from bokeh.io import output_notebook, show, output_file\n",
    "from bokeh.plotting import figure, ColumnDataSource\n",
    "from bokeh.tile_providers import get_provider, Vendors\n",
    "from bokeh.palettes import Viridis256\n",
    "from bokeh.models import ColorBar\n",
    "from bokeh.transform import linear_cmap"
   ]
  },
  {
   "cell_type": "code",
   "execution_count": null,
   "metadata": {},
   "outputs": [],
   "source": [
    "# Define function to switch from lat/long to mercator coordinates\n",
    "def x_coord(x, y):\n",
    "    \n",
    "    lat = x\n",
    "    lon = y\n",
    "    \n",
    "    r_major = 6378137.000\n",
    "    x = r_major * np.radians(lon)\n",
    "    scale = x/lon\n",
    "    y = 180.0/np.pi * np.log(np.tan(np.pi/4.0 + \n",
    "        lat * (np.pi/180.0)/2.0)) * scale\n",
    "    return (x, y)"
   ]
  },
  {
   "cell_type": "code",
   "execution_count": null,
   "metadata": {},
   "outputs": [],
   "source": [
    "#  Read the avocado data grouped by region with lat and Lon\n",
    "df = pd.read_excel('Avocado.xlsx')\n",
    "df['AveragePrice'] = df['AveragePrice'].round(2)\n",
    "df.head()"
   ]
  },
  {
   "cell_type": "code",
   "execution_count": null,
   "metadata": {},
   "outputs": [],
   "source": [
    "# Define coord as tuple (lat,long)\n",
    "df['coordinates'] = list(zip(df['latitude'], df['longitude']))\n",
    "\n",
    "# Obtain list of mercator coordinates\n",
    "mercators = [x_coord(x, y) for x, y in df['coordinates'] ]"
   ]
  },
  {
   "cell_type": "code",
   "execution_count": null,
   "metadata": {},
   "outputs": [],
   "source": [
    "# Create mercator column in df\n",
    "df['mercator'] = mercators\n",
    "\n",
    "# Split that column out into two separate columns - mercator_x and mercator_y\n",
    "df[['mercator_x', 'mercator_y']] = df['mercator'].apply(pd.Series)\n",
    "\n",
    "df.head()"
   ]
  },
  {
   "cell_type": "code",
   "execution_count": null,
   "metadata": {},
   "outputs": [],
   "source": [
    "# Select tile set to use\n",
    "# Google maps requires an API key\n",
    "\n",
    "chosentile = get_provider(Vendors.CARTODBPOSITRON)"
   ]
  },
  {
   "cell_type": "code",
   "execution_count": null,
   "metadata": {},
   "outputs": [],
   "source": [
    "#  Add Price Scale for bubble size\n",
    "scale = 20\n",
    "df['PriceScale'] = df['AveragePrice'] * scale\n",
    "\n",
    "# Tell Bokeh to use df as the source of the data\n",
    "source = ColumnDataSource(data=df)"
   ]
  },
  {
   "cell_type": "code",
   "execution_count": null,
   "metadata": {},
   "outputs": [],
   "source": [
    "#  Plot\n",
    "\n",
    "# Set tooltips - these appear when we hover over a data point \n",
    "tooltips = [(\"Region\",\"@Region\"), (\"Price\",\"@AveragePrice\")]\n",
    "\n",
    "# Create figure\n",
    "p = figure(title = 'Avocado Prices by region in the United States',\n",
    "           x_axis_type=\"mercator\", \n",
    "           y_axis_type=\"mercator\", \n",
    "           tooltips = tooltips) \n",
    "\n",
    "#  No axis on map\n",
    "p.axis.visible = False  \n",
    "\n",
    "#  Dynamice width and height\n",
    "p.sizing_mode = 'scale_both'\n",
    "\n",
    "# Add map - place map in background\n",
    "p.add_tile(chosentile)\n",
    "\n",
    "# Add points using mercator coordinates\n",
    "mapper = linear_cmap(field_name='AveragePrice', palette=Viridis256, low=min(df['AveragePrice']), high=max(df['AveragePrice']))\n",
    "\n",
    "p.circle(x = 'mercator_x', \n",
    "         y = 'mercator_y', \n",
    "         color = mapper,\n",
    "         source=source, \n",
    "         size='PriceScale')\n",
    "\n",
    "#  Define and show the color scale bar\n",
    "color_bar = ColorBar(color_mapper=mapper['transform'], width=20,  location=(0,0))\n",
    "p.add_layout(color_bar, 'right')\n",
    "\n",
    "# Display in notebook\n",
    "output_notebook()\n",
    "\n",
    "# Save as HTML\n",
    "output_file('Avocado Bokeh.html', title='Avocado Prices by region in the United States')"
   ]
  },
  {
   "cell_type": "code",
   "execution_count": null,
   "metadata": {},
   "outputs": [],
   "source": [
    "# Show map\n",
    "show(p)"
   ]
  },
  {
   "cell_type": "code",
   "execution_count": null,
   "metadata": {},
   "outputs": [],
   "source": []
  },
  {
   "cell_type": "code",
   "execution_count": null,
   "metadata": {},
   "outputs": [],
   "source": []
  }
 ],
 "metadata": {
  "kernelspec": {
   "display_name": "Python 3",
   "language": "python",
   "name": "python3"
  },
  "language_info": {
   "codemirror_mode": {
    "name": "ipython",
    "version": 3
   },
   "file_extension": ".py",
   "mimetype": "text/x-python",
   "name": "python",
   "nbconvert_exporter": "python",
   "pygments_lexer": "ipython3",
   "version": "3.7.6"
  }
 },
 "nbformat": 4,
 "nbformat_minor": 4
}
